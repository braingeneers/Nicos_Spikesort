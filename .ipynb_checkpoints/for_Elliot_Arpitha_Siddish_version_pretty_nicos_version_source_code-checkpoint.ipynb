{
 "cells": [
  {
   "cell_type": "markdown",
   "metadata": {},
   "source": [
    "<font color=\"magenta\" size=7>Source Code"
   ]
  },
  {
   "cell_type": "markdown",
   "metadata": {},
   "source": [
    "<font color=\"red\"><b>Siddish:</b> The code in section 2.2 `view other experiment numbers in the same batch` will show you how to get the number of experiments"
   ]
  },
  {
   "cell_type": "markdown",
   "metadata": {},
   "source": [
    "This is the source code that runs the nico's spikesort application."
   ]
  },
  {
   "cell_type": "markdown",
   "metadata": {},
   "source": [
    "<font color=\"red\">Arpitha: Like in the mindreader game example, you will create a app that has two `.ipynb` files:\n",
    "1. A source code file that for all the functions and widgets.\n",
    "2. An main application file where the interface is neatly displayed.\n",
    "    \n",
    "This is the source code file. Finish this before you build the main application. Start with the sort section."
   ]
  },
  {
   "cell_type": "markdown",
   "metadata": {},
   "source": [
    "<font color=\"orange\">When running Code, remember to occasionally **delete containers** by running the code in the `Remove Containters` section"
   ]
  },
  {
   "cell_type": "markdown",
   "metadata": {},
   "source": [
    "**<font color=\"red\">List of Tasks**\n",
    "<font color=\"red\">  \n",
    "1. Create a toggle button between mountainsort and spikesort"
   ]
  },
  {
   "cell_type": "markdown",
   "metadata": {},
   "source": [
    "**Resources**\n",
    "* [jupyter widgets list](https://ipywidgets.readthedocs.io/en/latest/examples/Widget%20List.html)\n",
    "* [Spikeforest 2 repository](https://github.com/flatironinstitute/spikeforest2)"
   ]
  },
  {
   "cell_type": "markdown",
   "metadata": {},
   "source": [
    "# Notebook Setup"
   ]
  },
  {
   "cell_type": "markdown",
   "metadata": {},
   "source": [
    "## Import Stuff"
   ]
  },
  {
   "cell_type": "code",
   "execution_count": 1,
   "metadata": {},
   "outputs": [],
   "source": [
    "import kachery as ka\n",
    "import os\n",
    "import subprocess\n",
    "import sys\n",
    "import numpy as np\n",
    "def install(package):\n",
    "    subprocess.check_call([sys.executable, \"-m\", \"pip\", \"install\", package])\n",
    "#do things to get braingeneers data\n",
    "#install(\"git+https://github.com/braingeneers/braingeneerspy.git\")\n",
    "#install(\"matplotlib\")\n",
    "import hither_sf as hither\n",
    "from spikeforest2 import sorters\n",
    "import matplotlib\n",
    "import braingeneers.datasets_electrophysiology\n",
    "import spikeinterface.extractors as se #for mda conversion only\n",
    "import spiketoolkit as st\n",
    "import braingeneers\n",
    "from braingeneers import datasets_electrophysiology as ephys\n",
    "import numpy as np\n",
    "import json\n",
    "import spikeforest2_utils\n",
    "from spikeforest2_utils import AutoRecordingExtractor, MdaRecordingExtractor\n",
    "import hither_sf as hither\n",
    "import kachery as ka\n",
    "import io\n",
    "import sys\n",
    "spikeforest2_utils.__version__=1.0"
   ]
  },
  {
   "cell_type": "markdown",
   "metadata": {},
   "source": [
    "## Create Directories"
   ]
  },
  {
   "cell_type": "code",
   "execution_count": 2,
   "metadata": {},
   "outputs": [],
   "source": [
    "folders = !ls\n",
    "if \"kach_dir\" not in folders:\n",
    "    !mkdir kach_dir\n",
    "    !touch kach_dir/raw.mda"
   ]
  },
  {
   "cell_type": "code",
   "execution_count": 3,
   "metadata": {},
   "outputs": [],
   "source": [
    "current_dir = ! pwd\n",
    "kach_dir = current_dir[0] + \"/kach_dir/\""
   ]
  },
  {
   "cell_type": "markdown",
   "metadata": {},
   "source": [
    "# <font color=\"blue\">Choose Experiment, time range, channels "
   ]
  },
  {
   "cell_type": "markdown",
   "metadata": {},
   "source": [
    "## <font color=\"blue\">choose time range, experiment name, experiment num"
   ]
  },
  {
   "cell_type": "markdown",
   "metadata": {},
   "source": [
    " Siddish , please : \n",
    " \n",
    "     create text box so people can type the batch_uuid into the ui\n",
    " \n",
    "     show users the different experiments in the batch by name and number\n",
    "         see how to do this under the heading \"view other experiment numbers in the same batch\". I did it in an archaic sort of way, see if you can make it cleaner/easier to work with. Eventually we may incorporate a function named view_experiments into the braingeneers python package based of implementations we develop here.\n",
    " \n",
    "     create text box to enter experiment number after printing the individual experiments in the batch\n",
    "     \n",
    "     if possible, all text boxes and interactables i'm instructing you to make, should show up even if the section is collapsed. We will have to ask elliot about this because he designed wetai and I have no idea how to do this. Regardless, try to position the interactive elements in places where the usability makes sense."
   ]
  },
  {
   "cell_type": "code",
   "execution_count": 4,
   "metadata": {},
   "outputs": [],
   "source": [
    "fname = os.environ['KACHERY_STORAGE_DIR']= kach_dir\n",
    "batch_uuid = '2020-11-05-e-UCSF-axionplate'\n",
    "experiment_num= 2 \n",
    "start = 1 #arpitha, sliders here for start minutes\n",
    "stop = 5 #and end minutes\n",
    "#recording_path = 'sha1://961f4a641af64dded4821610189f808f0192de4d/SYNTH_MEAREC_TETRODE/synth_mearec_tetrode_noise10_K10_C4/002_synth.json' #simulated"
   ]
  },
  {
   "cell_type": "code",
   "execution_count": 5,
   "metadata": {},
   "outputs": [],
   "source": [
    "#print(\"this is how long the recording is: \", X.shape[1]/fs/60, \" minutes\")"
   ]
  },
  {
   "cell_type": "markdown",
   "metadata": {},
   "source": [
    " Siddish, please : \n",
    "\n",
    "        create a slider bar (one bar) that assigns two integers values [0, max_minutes]. The bar should span [0, max_minutes] for the selected recording, and it will assign start to the first point chosen on the left of the slider bar, and stop to the integer chosen on the right of the slider."
   ]
  },
  {
   "cell_type": "markdown",
   "metadata": {},
   "source": [
    "## view other experiment numbers in the same batch "
   ]
  },
  {
   "cell_type": "code",
   "execution_count": 6,
   "metadata": {},
   "outputs": [
    {
     "name": "stdout",
     "output_type": "stream",
     "text": [
      "Below is experiment number  0\n",
      "Full path for PRP: https://s3.nautilus.optiputer.net/braingeneers/ephys/2020-11-05-e-UCSF-axionplate/derived/raspi-6well-neuron-2020-11-05-15-46-09.json\n",
      "dict_keys(['version', 'name', 'notes', 'timestamp', 'hardware', 'sample_rate', 'offset', 'scaler', 'units', 'num_channels', 'channels', 'blocks'])\n",
      "Below is experiment number  1\n",
      "Full path for PRP: https://s3.nautilus.optiputer.net/braingeneers/ephys/2020-11-05-e-UCSF-axionplate/derived/raspi-6well-neuron-2020-11-05-15-55-40.json\n",
      "dict_keys(['version', 'name', 'notes', 'timestamp', 'hardware', 'sample_rate', 'offset', 'scaler', 'units', 'num_channels', 'channels', 'blocks'])\n",
      "Below is experiment number  2\n",
      "Full path for PRP: https://s3.nautilus.optiputer.net/braingeneers/ephys/2020-11-05-e-UCSF-axionplate/derived/raspi-6well-neuron-ch6active-2020-11-05-17-19-47.json\n",
      "dict_keys(['version', 'name', 'notes', 'timestamp', 'hardware', 'sample_rate', 'offset', 'scaler', 'units', 'num_channels', 'channels', 'blocks'])\n",
      "Below is experiment number  3\n",
      "Full path for PRP: https://s3.nautilus.optiputer.net/braingeneers/ephys/2020-11-05-e-UCSF-axionplate/derived/raspi-6well-neuron-ch6only-2020-11-05-17-15-47.json\n",
      "dict_keys(['version', 'name', 'notes', 'timestamp', 'hardware', 'sample_rate', 'offset', 'scaler', 'units', 'num_channels', 'channels', 'blocks'])\n",
      "Below is experiment number  4\n",
      "Full path for PRP: https://s3.nautilus.optiputer.net/braingeneers/ephys/2020-11-05-e-UCSF-axionplate/derived/raspi-noise-baseline-2020-11-05-15-26-41.json\n",
      "dict_keys(['version', 'name', 'notes', 'timestamp', 'hardware', 'sample_rate', 'offset', 'scaler', 'units', 'num_channels', 'channels', 'blocks'])\n",
      "Below is experiment number  5\n",
      "Full path for PRP: https://s3.nautilus.optiputer.net/braingeneers/ephys/2020-11-05-e-UCSF-axionplate/derived/raspi-noise-baseline-2020-11-05-15-32-05.json\n",
      "dict_keys(['version', 'name', 'notes', 'timestamp', 'hardware', 'sample_rate', 'offset', 'scaler', 'units', 'num_channels', 'channels', 'blocks'])\n",
      "Below is experiment number  6\n",
      "Full path for PRP: https://s3.nautilus.optiputer.net/braingeneers/ephys/2020-11-05-e-UCSF-axionplate/derived/intan_6well_neuron.json\n",
      "dict_keys(['blocks', 'channels', 'name', 'notes', 'num_channels', 'num_current_input_channels', 'num_voltage_channels', 'offset', 'sample_rate', 'scaler', 'timestamp', 'hardware', 'units', 'version'])\n",
      "Below is experiment number  7\n",
      "Full path for PRP: https://s3.nautilus.optiputer.net/braingeneers/ephys/2020-11-05-e-UCSF-axionplate/derived/intan_6well_neuron_ch6.json\n",
      "dict_keys(['blocks', 'channels', 'name', 'notes', 'num_channels', 'num_current_input_channels', 'num_voltage_channels', 'offset', 'sample_rate', 'scaler', 'timestamp', 'hardware', 'units', 'version'])\n",
      "Below is experiment number  8\n",
      "Full path for PRP: https://s3.nautilus.optiputer.net/braingeneers/ephys/2020-11-05-e-UCSF-axionplate/derived/intan_noise_baseline.json\n",
      "dict_keys(['blocks', 'channels', 'name', 'notes', 'num_channels', 'num_current_input_channels', 'num_voltage_channels', 'offset', 'sample_rate', 'scaler', 'timestamp', 'hardware', 'units', 'version'])\n",
      "Below is experiment number  9\n",
      "these are the first 100 experiments\n"
     ]
    }
   ],
   "source": [
    "try:\n",
    "    for num in range(100):\n",
    "        print(\"Below is experiment number \", num)\n",
    "        experiment = braingeneers.datasets_electrophysiology.load_experiment(batch_uuid, num)\n",
    "        print(experiment.keys())\n",
    "        experiment[\"notes\"]\n",
    "except:\n",
    "    print(\"these are the first 100 experiments\")"
   ]
  },
  {
   "cell_type": "markdown",
   "metadata": {},
   "source": [
    "## <font color=\"blue\">choose channels"
   ]
  },
  {
   "cell_type": "markdown",
   "metadata": {},
   "source": [
    "Siddish please:\n",
    "    \n",
    "    create a text box asking users to enter desired channels seperated by commas. So if a user enters \"1,9\" into the box it will populate the selected_channels array -> [1,9]. If the user does not enter specific channels, make selected_channels a list from [0,max chans). The number of channels, before trimming, is X.shape[0] (32 in this case). So the list should be [0,1,2,{...},31]"
   ]
  },
  {
   "cell_type": "code",
   "execution_count": 7,
   "metadata": {},
   "outputs": [],
   "source": [
    "#X.shape[0]"
   ]
  },
  {
   "cell_type": "code",
   "execution_count": 8,
   "metadata": {},
   "outputs": [],
   "source": [
    "selected_channels=[5,10]"
   ]
  },
  {
   "cell_type": "code",
   "execution_count": 9,
   "metadata": {},
   "outputs": [
    {
     "data": {
      "text/plain": [
       "2"
      ]
     },
     "execution_count": 9,
     "metadata": {},
     "output_type": "execute_result"
    }
   ],
   "source": [
    "len(selected_channels)"
   ]
  },
  {
   "cell_type": "markdown",
   "metadata": {},
   "source": [
    "## load data, time array (seconds), and sampling freq"
   ]
  },
  {
   "cell_type": "code",
   "execution_count": 10,
   "metadata": {},
   "outputs": [
    {
     "name": "stdout",
     "output_type": "stream",
     "text": [
      "Full path for PRP: https://s3.nautilus.optiputer.net/braingeneers/ephys/2020-11-05-e-UCSF-axionplate/derived/raspi-6well-neuron-ch6active-2020-11-05-17-19-47.json\n",
      "Loading file Raspi... start: 0  stop: None\n"
     ]
    },
    {
     "data": {
      "text/plain": [
       "(32, 1829149)"
      ]
     },
     "execution_count": 10,
     "metadata": {},
     "output_type": "execute_result"
    }
   ],
   "source": [
    "X, t, fs = ephys.load_blocks(batch_uuid, experiment_num)#, start=start, stop=stop) #for the 11-27-20 experiment and raspi expm'ts after november, must specify start stop blocks (minutes)\n",
    "\n",
    "X = X.T #spikeinterface wants it MxN (channel number by time)\n",
    "X.shape"
   ]
  },
  {
   "cell_type": "code",
   "execution_count": 11,
   "metadata": {},
   "outputs": [],
   "source": [
    "#ephys.create_overview(batch_uuid, experiment_num, with_spikes = False)"
   ]
  },
  {
   "cell_type": "code",
   "execution_count": 12,
   "metadata": {},
   "outputs": [
    {
     "name": "stdout",
     "output_type": "stream",
     "text": [
      "this is sampling Freq:  14500\n"
     ]
    }
   ],
   "source": [
    "print(\"this is sampling Freq: \", fs)"
   ]
  },
  {
   "cell_type": "code",
   "execution_count": 13,
   "metadata": {},
   "outputs": [
    {
     "name": "stdout",
     "output_type": "stream",
     "text": [
      "this is how long the recording is:  2.1024701149425287  minutes\n"
     ]
    }
   ],
   "source": [
    "print(\"this is how long the recording is: \", X.shape[1]/fs/60, \" minutes\")"
   ]
  },
  {
   "cell_type": "markdown",
   "metadata": {},
   "source": [
    "## <font color=\"blue\">optionally (ideally): apply geometry for locations of electrodes"
   ]
  },
  {
   "cell_type": "code",
   "execution_count": 14,
   "metadata": {},
   "outputs": [
    {
     "name": "stdout",
     "output_type": "stream",
     "text": [
      "last_chan shape  (1829149,)\n",
      "X[0].shape  (1829149,)\n",
      "2 chan:  (2, 1829149)\n"
     ]
    }
   ],
   "source": [
    "last_chan = X[selected_channels[0],:]\n",
    "print(\"last_chan shape \", last_chan.shape)\n",
    "print(\"X[0].shape \", X[0].shape)\n",
    "\n",
    "geom = np.zeros(((len(selected_channels)),2)) # initialize recording device geometry to zeros\n",
    "\n",
    "if len(selected_channels)==1:\n",
    "    this_chan = X[selected_channels[0]]\n",
    "    this_chan = np.array([this_chan])\n",
    "    X = this_chan\n",
    "    print(\"1 chan: \", X.shape)\n",
    "    \n",
    "    \n",
    "if len(selected_channels)==2:\n",
    "    X = np.append([X[selected_channels[0]]], [X[selected_channels[1]]], axis=0)\n",
    "    print(\"2 chan: \", X.shape)\n",
    "    geom = np.array([[0.0,0.0],[0.0,1.0]])\n",
    "\n",
    "if len(selected_channels)>2: #PROBLEMATIC?\n",
    "    for chan in range(1,len(selected_channels)):\n",
    "        last_chan = np.append([last_chan],[X[selected_channels[chan]]],axis=0)\n",
    "    X = last_chan\n"
   ]
  },
  {
   "cell_type": "code",
   "execution_count": 15,
   "metadata": {},
   "outputs": [
    {
     "data": {
      "text/plain": [
       "(2, 1829149)"
      ]
     },
     "execution_count": 15,
     "metadata": {},
     "output_type": "execute_result"
    }
   ],
   "source": [
    "X.shape"
   ]
  },
  {
   "cell_type": "code",
   "execution_count": 16,
   "metadata": {},
   "outputs": [
    {
     "name": "stdout",
     "output_type": "stream",
     "text": [
      "[[0. 0.]\n",
      " [0. 1.]]\n"
     ]
    }
   ],
   "source": [
    "print(geom)"
   ]
  },
  {
   "cell_type": "code",
   "execution_count": 17,
   "metadata": {},
   "outputs": [
    {
     "name": "stdout",
     "output_type": "stream",
     "text": [
      "minutes =  2.1024701149425287\n",
      "expected minutes = 4\n"
     ]
    }
   ],
   "source": [
    "#X.shape\n",
    "#X[1:10,1:10]\n",
    "print(\"minutes = \", X.shape[1]/fs/60)\n",
    "print(\"expected minutes =\", stop-start)"
   ]
  },
  {
   "cell_type": "code",
   "execution_count": 18,
   "metadata": {},
   "outputs": [
    {
     "name": "stdout",
     "output_type": "stream",
     "text": [
      "only two channels, so Geom always two points 1 unit apart.\n"
     ]
    }
   ],
   "source": [
    "if X.shape[0] == 2 :\n",
    "    geom = np.array([[0.0,0.0],[0.0,1.0]])\n",
    "    print(\"only two channels, so Geom always two points 1 unit apart.\")"
   ]
  },
  {
   "cell_type": "code",
   "execution_count": 19,
   "metadata": {},
   "outputs": [
    {
     "data": {
      "text/plain": [
       "(2, 2)"
      ]
     },
     "execution_count": 19,
     "metadata": {},
     "output_type": "execute_result"
    }
   ],
   "source": [
    "geom.shape #the 2d locations in space of each channel on the recording device"
   ]
  },
  {
   "cell_type": "markdown",
   "metadata": {},
   "source": [
    "# Create \"Recording\" for spikeForest and Filter recording"
   ]
  },
  {
   "cell_type": "markdown",
   "metadata": {},
   "source": [
    "## Create Geom File"
   ]
  },
  {
   "cell_type": "markdown",
   "metadata": {},
   "source": [
    "We must create geom file or else there will be an error the first time someone runs this"
   ]
  },
  {
   "cell_type": "code",
   "execution_count": 20,
   "metadata": {},
   "outputs": [],
   "source": [
    "kach_files = !ls {fname}\n",
    "if \"geom.csv\" not in kach_files:\n",
    "    !touch {fname}/geom.csv\n",
    "    !echo \"0.0,0.0\" >> {fname}geom.csv\n",
    "    !echo \"0.0,1.0\" >> {fname}geom.csv\n"
   ]
  },
  {
   "cell_type": "markdown",
   "metadata": {},
   "source": [
    "## Check if docker images are there"
   ]
  },
  {
   "cell_type": "markdown",
   "metadata": {},
   "source": [
    "We must download the docker images if they don't already exist"
   ]
  },
  {
   "cell_type": "markdown",
   "metadata": {},
   "source": [
    "Downlaod mountainsort"
   ]
  },
  {
   "cell_type": "code",
   "execution_count": 21,
   "metadata": {},
   "outputs": [],
   "source": [
    "check_mountainsort = !docker images | grep magland/sf-mountainsort4\n",
    "if not check_mountainsort:\n",
    "    ! docker pull magland/sf-mountainsort4:0.3.2"
   ]
  },
  {
   "cell_type": "markdown",
   "metadata": {},
   "source": [
    "Download Spike circus"
   ]
  },
  {
   "cell_type": "code",
   "execution_count": 22,
   "metadata": {},
   "outputs": [],
   "source": [
    "check_spykingcircus = !docker images | grep magland/sf-spykingcircus\n",
    "if not check_spykingcircus:\n",
    "    ! docker pull magland/sf-spykingcircus:0.9.7 "
   ]
  },
  {
   "cell_type": "markdown",
   "metadata": {},
   "source": [
    "## Nicos Code"
   ]
  },
  {
   "cell_type": "code",
   "execution_count": 23,
   "metadata": {},
   "outputs": [],
   "source": [
    "recording=se.NumpyRecordingExtractor(\n",
    "    timeseries=X,\n",
    "    geom=geom,\n",
    "    sampling_frequency=fs\n",
    ")"
   ]
  },
  {
   "cell_type": "code",
   "execution_count": 24,
   "metadata": {},
   "outputs": [],
   "source": [
    "#recording = st.preprocessing.bandpass_filter(recording, freq_min=300, freq_max=6000)"
   ]
  },
  {
   "cell_type": "code",
   "execution_count": 25,
   "metadata": {},
   "outputs": [
    {
     "data": {
      "text/plain": [
       "'/home/jovyan/Projects/Nicos_Spikesort/kach_dir/'"
      ]
     },
     "execution_count": 25,
     "metadata": {},
     "output_type": "execute_result"
    }
   ],
   "source": [
    "fname"
   ]
  },
  {
   "cell_type": "markdown",
   "metadata": {},
   "source": [
    "raw_path = ka.store_file(fname  + 'raw.mda')"
   ]
  },
  {
   "cell_type": "markdown",
   "metadata": {},
   "source": [
    "kach_dir_files = ! ls kach_dir\n",
    "if \"geom.csv\" not in kach_dir_files :\n",
    "    ! touch kach_dir/geom.csv"
   ]
  },
  {
   "cell_type": "markdown",
   "metadata": {},
   "source": [
    "obj = dict(\n",
    "    raw=raw_path,\n",
    "    params=ka.load_object(fname + 'params.json'),\n",
    "    geom=np.genfromtxt(ka.load_file(fname + 'geom.csv'), delimiter=',').tolist()\n",
    ")"
   ]
  },
  {
   "cell_type": "markdown",
   "metadata": {},
   "source": [
    "obj['self_reference'] = ka.store_object(obj, basename='{}.json'.format(label))\n",
    "print(obj['self_reference'])\n",
    "with open(output_fname, 'w') as f:\n",
    "    json.dump(obj, f, indent=4)"
   ]
  },
  {
   "cell_type": "code",
   "execution_count": 26,
   "metadata": {},
   "outputs": [],
   "source": [
    "def register_recording(*, fname, recording, output_fname, label):\n",
    "            raw_path = ka.store_file(fname  + 'raw.mda')\n",
    "            obj = dict(\n",
    "                raw=raw_path,\n",
    "                params=ka.load_object(fname + 'params.json'),\n",
    "                geom=np.genfromtxt(ka.load_file(fname + 'geom.csv'), delimiter=',').tolist()\n",
    "            )\n",
    "            obj['self_reference'] = ka.store_object(obj, basename='{}.json'.format(label))\n",
    "\n",
    "            with open(output_fname, 'w') as f: json.dump(obj, f, indent=4)\n",
    "            return obj['self_reference']\n",
    "            \n",
    "            "
   ]
  },
  {
   "cell_type": "code",
   "execution_count": 27,
   "metadata": {},
   "outputs": [
    {
     "data": {
      "text/plain": [
       "'/home/jovyan/Projects/Nicos_Spikesort/kach_dir/'"
      ]
     },
     "execution_count": 27,
     "metadata": {},
     "output_type": "execute_result"
    }
   ],
   "source": [
    "fname"
   ]
  },
  {
   "cell_type": "code",
   "execution_count": 28,
   "metadata": {},
   "outputs": [],
   "source": [
    "recording_path =  register_recording( recording=recording, fname=fname, output_fname=fname+'new_recording.json', label='new_recording')"
   ]
  },
  {
   "cell_type": "markdown",
   "metadata": {},
   "source": [
    "# <font color=\"black\"> Sort"
   ]
  },
  {
   "cell_type": "code",
   "execution_count": 29,
   "metadata": {},
   "outputs": [],
   "source": [
    "# dummy dataset courtesy of spikeforest's example \n",
    "#recording_path = 'sha1://961f4a641af64dded4821610189f808f0192de4d/SYNTH_MEAREC_TETRODE/synth_mearec_tetrode_noise10_K10_C4/002_synth.json' \n"
   ]
  },
  {
   "cell_type": "markdown",
   "metadata": {},
   "source": [
    "<font color=\"red\"> Arpitha, please:\n",
    "     create 2 buttons, one that says \"MountainSort4\" and one that says \"SpykingCircus\". Above the buttons, ask users to \"choose your spike sorter.\""
   ]
  },
  {
   "cell_type": "markdown",
   "metadata": {},
   "source": [
    "<font color=\"red\">Arpitha: This is greate work! As an exercise, please reimplement the code above, but instead, use the `toggle button` widget. This is shown below. This does the same thing as what you wrote, but takes less code."
   ]
  },
  {
   "cell_type": "code",
   "execution_count": 44,
   "metadata": {},
   "outputs": [],
   "source": [
    "#sort_button = 'MountainSort4'\n",
    "sort_button = 'SpykingCircus'"
   ]
  },
  {
   "cell_type": "code",
   "execution_count": 31,
   "metadata": {},
   "outputs": [
    {
     "name": "stdout",
     "output_type": "stream",
     "text": [
      "choose your spike sorter\n",
      "MountainSort4\n"
     ]
    }
   ],
   "source": [
    "#Arpitha\n",
    "#Method 1:\n",
    "import ipywidgets as ipw #ipywidgets used for button\n",
    "\n",
    "print ('choose your spike sorter') \n",
    "\n",
    "ms4 = ipw.Button(                  #ms4 creates the mountain sort button\n",
    "    description ='MountainSort4',\n",
    "    disabled = False,\n",
    "    button_style='info',           \n",
    "    tooltip = 'MountainSort4',\n",
    "    icon = 'check'   \n",
    ")\n",
    "\n",
    "def on_ms4_clicked(_):            #define the mountain sort button and globalize so that button does it's function\n",
    "    global sort_button\n",
    "    sort_button = 'MountainSort4'\n",
    "    #print (sort_button)\n",
    "\n",
    "sc = ipw.Button(\n",
    "    description ='SpykingCircus',  #sc creates the SpykeCircus sort button\n",
    "    disabled = False,\n",
    "    button_style='info', \n",
    "    tooltip = 'SpykingCircus',\n",
    "    icon = 'check' \n",
    ")\n",
    "\n",
    "def on_sc_clicked(_):           #define the SpykeCircus sort button and globalize so that button does it's function\n",
    "    global sort_button\n",
    "    sort_button = 'SpykingCircus'\n",
    "    #print (sort_button)\n",
    "\n",
    "ms4.on_click(on_ms4_clicked)   #on_click so that button does it's function\n",
    "sc.on_click(on_sc_clicked)\n",
    "    \n",
    "ipw.HBox([ms4,sc])             #HBox so that buttons are on same line\n",
    "            \n",
    "            \n",
    "\n",
    "print(sort_button)"
   ]
  },
  {
   "cell_type": "code",
   "execution_count": 32,
   "metadata": {},
   "outputs": [
    {
     "name": "stdout",
     "output_type": "stream",
     "text": [
      "choose your spike sorter\n"
     ]
    },
    {
     "data": {
      "application/vnd.jupyter.widget-view+json": {
       "model_id": "76144954047d4786b8d06b33353d71c6",
       "version_major": 2,
       "version_minor": 0
      },
      "text/plain": [
       "ToggleButtons(button_style='info', options=('MountainSort4', 'SpykingCircus'), tooltips=('Describe mountainsor…"
      ]
     },
     "metadata": {},
     "output_type": "display_data"
    }
   ],
   "source": [
    "#Arpitha\n",
    "#Method 2:\n",
    "print ('choose your spike sorter') \n",
    "test = ipw.ToggleButtons(                                                #used ipw rather than widgets\n",
    "    options=['MountainSort4', 'SpykingCircus'],\n",
    "    #description='Choose Algorithm : ',\n",
    "    button_style='info', # 'success', 'info', 'warning', 'danger' or ''\n",
    "    tooltips=['Describe mountainsort4', 'describe spikingcircus'],\n",
    ")\n",
    "test"
   ]
  },
  {
   "cell_type": "code",
   "execution_count": 45,
   "metadata": {},
   "outputs": [
    {
     "data": {
      "text/plain": [
       "'MountainSort4'"
      ]
     },
     "execution_count": 45,
     "metadata": {},
     "output_type": "execute_result"
    }
   ],
   "source": [
    "test.value"
   ]
  },
  {
   "cell_type": "code",
   "execution_count": 46,
   "metadata": {
    "code_folding": []
   },
   "outputs": [
    {
     "name": "stdout",
     "output_type": "stream",
     "text": [
      "choose your spike sorter\n"
     ]
    },
    {
     "data": {
      "application/vnd.jupyter.widget-view+json": {
       "model_id": "49f586d9f17a4ce88e8536bc6fc79ae3",
       "version_major": 2,
       "version_minor": 0
      },
      "text/plain": [
       "ToggleButtons(button_style='info', options=('MountainSort4', 'SpykingCircus'), tooltips=('Describe mountainsor…"
      ]
     },
     "metadata": {},
     "output_type": "display_data"
    }
   ],
   "source": [
    "#Arpitha\n",
    "#Method 3\n",
    "print ('choose your spike sorter') \n",
    "\n",
    "button_clicked = 'MountainSort4'                                           #MountainSort 4 is the default button\n",
    "\n",
    "test = ipw.ToggleButtons(\n",
    "    options=['MountainSort4', 'SpykingCircus'],\n",
    "    #description='Choose Algorithm : ',  \n",
    "    button_style='info', # 'success', 'info', 'warning', 'danger' or ''\n",
    "    tooltips=['Describe mountainsort4', 'describe spykingcircus'],\n",
    ")\n",
    "display(test)                                               \n",
    "\n",
    "def observe_test (change):\n",
    "    button_clicked = str(change['new'])\n",
    "    print(change['new'])                                                   #Set button_clicked to 'new' so that SpykingCircus will come up\n",
    "    \n",
    "test.observe (observe_test, names = ['value'])"
   ]
  },
  {
   "cell_type": "code",
   "execution_count": 47,
   "metadata": {},
   "outputs": [
    {
     "name": "stdout",
     "output_type": "stream",
     "text": [
      "MountainSort4\n"
     ]
    }
   ],
   "source": [
    "print (button_clicked)"
   ]
  },
  {
   "cell_type": "code",
   "execution_count": null,
   "metadata": {},
   "outputs": [],
   "source": []
  },
  {
   "cell_type": "code",
   "execution_count": 48,
   "metadata": {},
   "outputs": [
    {
     "name": "stdout",
     "output_type": "stream",
     "text": [
      "===== Hither: running [spykingcircus] in container: docker://magland/sf-spykingcircus:0.9.7\n",
      "#############################################################\n",
      "\n",
      "                #!/bin/bash\n",
      "\n",
      "                exec docker run --name ZpBSaecW_spykingcircus -i  \\\n",
      "                    -v /etc/localtime:/etc/localtime:ro \\\n",
      "                    -v /etc/passwd:/etc/passwd -u `id -u`:`id -g` \\\n",
      "                    -v $KACHERY_STORAGE_DIR:/kachery-storage \\\n",
      "                    -v /home/jovyan/Projects/Nicos_Spikesort/kach_dir/tmp/tmp_hither_run_in_container_spykingcircus_egg_pvlg:/run_in_container \\\n",
      "                    -v /tmp:/tmp \\\n",
      "                    -v $HOME:$HOME \\\n",
      "                    -v /home/jovyan/Projects/Nicos_Spikesort/kach_dir/tmp/tmp_hither_run_in_container_spykingcircus_egg_pvlg/outputs:/outputs \\\n",
      "                    magland/sf-spykingcircus:0.9.7 \\\n",
      "                    bash /run_in_container/run.sh\n",
      "                \n",
      "#############################################################\n",
      "===== Hither: finished [spykingcircus] with status error after 0.6413576602935791 sec\n"
     ]
    },
    {
     "ename": "Exception",
     "evalue": "Error running job: spykingcircus",
     "output_type": "error",
     "traceback": [
      "\u001b[0;31m---------------------------------------------------------------------------\u001b[0m",
      "\u001b[0;31mException\u001b[0m                                 Traceback (most recent call last)",
      "\u001b[0;32m<ipython-input-48-3f9bda76cb59>\u001b[0m in \u001b[0;36m<module>\u001b[0;34m\u001b[0m\n\u001b[1;32m     21\u001b[0m         \u001b[0;31m#with hither.config(cache='default_readwrite'):\u001b[0m\u001b[0;34m\u001b[0m\u001b[0;34m\u001b[0m\u001b[0;34m\u001b[0m\u001b[0m\n\u001b[1;32m     22\u001b[0m             \u001b[0;32mwith\u001b[0m \u001b[0mhither\u001b[0m\u001b[0;34m.\u001b[0m\u001b[0mconfig\u001b[0m\u001b[0;34m(\u001b[0m\u001b[0mcontainer\u001b[0m\u001b[0;34m=\u001b[0m\u001b[0;34m'default'\u001b[0m\u001b[0;34m)\u001b[0m\u001b[0;34m:\u001b[0m\u001b[0;34m\u001b[0m\u001b[0;34m\u001b[0m\u001b[0m\n\u001b[0;32m---> 23\u001b[0;31m                 result = sorters.spykingcircus.run(\n\u001b[0m\u001b[1;32m     24\u001b[0m                         \u001b[0mrecording_path\u001b[0m\u001b[0;34m=\u001b[0m\u001b[0mrecording_path\u001b[0m\u001b[0;34m,\u001b[0m\u001b[0;34m\u001b[0m\u001b[0;34m\u001b[0m\u001b[0m\n\u001b[1;32m     25\u001b[0m                         \u001b[0msorting_out\u001b[0m\u001b[0;34m=\u001b[0m\u001b[0mhither\u001b[0m\u001b[0;34m.\u001b[0m\u001b[0mFile\u001b[0m\u001b[0;34m(\u001b[0m\u001b[0;34m)\u001b[0m\u001b[0;34m\u001b[0m\u001b[0;34m\u001b[0m\u001b[0m\n",
      "\u001b[0;32m/opt/conda/lib/python3.8/site-packages/hither_sf/_core.py\u001b[0m in \u001b[0;36mrun\u001b[0;34m(_label, **kwargs)\u001b[0m\n\u001b[1;32m    276\u001b[0m                         \u001b[0;32melse\u001b[0m\u001b[0;34m:\u001b[0m\u001b[0;34m\u001b[0m\u001b[0;34m\u001b[0m\u001b[0m\n\u001b[1;32m    277\u001b[0m                             \u001b[0;32mif\u001b[0m \u001b[0m_exception_on_fail\u001b[0m\u001b[0;34m:\u001b[0m\u001b[0;34m\u001b[0m\u001b[0;34m\u001b[0m\u001b[0m\n\u001b[0;32m--> 278\u001b[0;31m                                 \u001b[0;32mraise\u001b[0m \u001b[0mException\u001b[0m\u001b[0;34m(\u001b[0m\u001b[0;34mf'Error running job: {_label}'\u001b[0m\u001b[0;34m)\u001b[0m\u001b[0;34m\u001b[0m\u001b[0;34m\u001b[0m\u001b[0m\n\u001b[0m\u001b[1;32m    279\u001b[0m                             \u001b[0;32mfor\u001b[0m \u001b[0moutput\u001b[0m \u001b[0;32min\u001b[0m \u001b[0moutputs0\u001b[0m\u001b[0;34m:\u001b[0m\u001b[0;34m\u001b[0m\u001b[0;34m\u001b[0m\u001b[0m\n\u001b[1;32m    280\u001b[0m                                 \u001b[0moutput\u001b[0m\u001b[0;34m.\u001b[0m\u001b[0m_failed\u001b[0m \u001b[0;34m=\u001b[0m \u001b[0;32mTrue\u001b[0m\u001b[0;34m\u001b[0m\u001b[0;34m\u001b[0m\u001b[0m\n",
      "\u001b[0;31mException\u001b[0m: Error running job: spykingcircus"
     ]
    }
   ],
   "source": [
    "#sort_button = 'MountainSort4' \n",
    "\n",
    "if sort_button == 'MountainSort4':\n",
    "    with ka.config(fr='default_readonly'):\n",
    "        #with hither.config(cache='default_readwrite'):\n",
    "            with hither.config(container='default'):\n",
    "                result = sorters.mountainsort4.run(\n",
    "                        recording_path=recording_path,\n",
    "                        sorting_out=hither.File()\n",
    "                        )\n",
    "                print(\"recording out path: \", recording_path)\n",
    "                print(\"sorting out path: \",result.outputs.sorting_out)\n",
    "                sorting_path = str(result.outputs.sorting_out)\n",
    "\n",
    "    print(result.outputs.sorting_out) \n",
    "    \n",
    "\n",
    "      \n",
    "if sort_button == 'SpykingCircus':\n",
    "    with ka.config(fr='default_readonly'):\n",
    "        #with hither.config(cache='default_readwrite'):\n",
    "            with hither.config(container='default'):\n",
    "                result = sorters.spykingcircus.run(\n",
    "                        recording_path=recording_path,\n",
    "                        sorting_out=hither.File()\n",
    "                        )\n",
    "                print(\"recording out path: \", recording_path)\n",
    "                print(\"sorting out path: \",result.outputs.sorting_out)\n",
    "                sorting_path = str(result.outputs.sorting_out)\n",
    "\n",
    "print(result.outputs.sorting_out)\n"
   ]
  },
  {
   "cell_type": "code",
   "execution_count": 49,
   "metadata": {},
   "outputs": [
    {
     "ename": "NameError",
     "evalue": "name 'sorting_path' is not defined",
     "output_type": "error",
     "traceback": [
      "\u001b[0;31m---------------------------------------------------------------------------\u001b[0m",
      "\u001b[0;31mNameError\u001b[0m                                 Traceback (most recent call last)",
      "\u001b[0;32m<ipython-input-49-d219dffbf244>\u001b[0m in \u001b[0;36m<module>\u001b[0;34m\u001b[0m\n\u001b[0;32m----> 1\u001b[0;31m \u001b[0msorting_out_short\u001b[0m \u001b[0;34m=\u001b[0m \u001b[0msorting_path\u001b[0m\u001b[0;34m[\u001b[0m\u001b[0;36m12\u001b[0m\u001b[0;34m:\u001b[0m\u001b[0;34m-\u001b[0m\u001b[0;36m1\u001b[0m\u001b[0;34m]\u001b[0m\u001b[0;34m\u001b[0m\u001b[0;34m\u001b[0m\u001b[0m\n\u001b[0m\u001b[1;32m      2\u001b[0m \u001b[0;34m\u001b[0m\u001b[0m\n\u001b[1;32m      3\u001b[0m \u001b[0mprint\u001b[0m\u001b[0;34m(\u001b[0m\u001b[0;34m\"This is the new short path for the sorting: \"\u001b[0m\u001b[0;34m,\u001b[0m\u001b[0msorting_out_short\u001b[0m\u001b[0;34m)\u001b[0m\u001b[0;34m\u001b[0m\u001b[0;34m\u001b[0m\u001b[0m\n",
      "\u001b[0;31mNameError\u001b[0m: name 'sorting_path' is not defined"
     ]
    }
   ],
   "source": [
    "sorting_out_short = sorting_path[12:-1]\n",
    "\n",
    "print(\"This is the new short path for the sorting: \",sorting_out_short)"
   ]
  },
  {
   "cell_type": "code",
   "execution_count": 50,
   "metadata": {},
   "outputs": [
    {
     "ename": "NameError",
     "evalue": "name 'sorting_out_short' is not defined",
     "output_type": "error",
     "traceback": [
      "\u001b[0;31m---------------------------------------------------------------------------\u001b[0m",
      "\u001b[0;31mNameError\u001b[0m                                 Traceback (most recent call last)",
      "\u001b[0;32m<ipython-input-50-2ac7580936e5>\u001b[0m in \u001b[0;36m<module>\u001b[0;34m\u001b[0m\n\u001b[1;32m      2\u001b[0m \u001b[0;32mimport\u001b[0m \u001b[0mkachery\u001b[0m \u001b[0;32mas\u001b[0m \u001b[0mka\u001b[0m\u001b[0;34m\u001b[0m\u001b[0;34m\u001b[0m\u001b[0m\n\u001b[1;32m      3\u001b[0m \u001b[0;34m\u001b[0m\u001b[0m\n\u001b[0;32m----> 4\u001b[0;31m \u001b[0muniversal_sorting_path\u001b[0m \u001b[0;34m=\u001b[0m \u001b[0mka\u001b[0m\u001b[0;34m.\u001b[0m\u001b[0mstore_file\u001b[0m\u001b[0;34m(\u001b[0m\u001b[0msorting_out_short\u001b[0m\u001b[0;34m)\u001b[0m\u001b[0;34m\u001b[0m\u001b[0;34m\u001b[0m\u001b[0m\n\u001b[0m\u001b[1;32m      5\u001b[0m \u001b[0;34m\u001b[0m\u001b[0m\n\u001b[1;32m      6\u001b[0m \u001b[0mrecording\u001b[0m \u001b[0;34m=\u001b[0m \u001b[0mAutoRecordingExtractor\u001b[0m\u001b[0;34m(\u001b[0m\u001b[0mrecording_path\u001b[0m\u001b[0;34m,\u001b[0m \u001b[0mdownload\u001b[0m\u001b[0;34m=\u001b[0m\u001b[0;32mFalse\u001b[0m\u001b[0;34m)\u001b[0m\u001b[0;34m\u001b[0m\u001b[0;34m\u001b[0m\u001b[0m\n",
      "\u001b[0;31mNameError\u001b[0m: name 'sorting_out_short' is not defined"
     ]
    }
   ],
   "source": [
    "from spikeforest2_utils import AutoRecordingExtractor, AutoSortingExtractor\n",
    "import kachery as ka\n",
    "\n",
    "universal_sorting_path = ka.store_file(sorting_out_short)\n",
    "\n",
    "recording = AutoRecordingExtractor(recording_path, download=False)\n",
    "sorting_true = AutoSortingExtractor(universal_sorting_path)"
   ]
  },
  {
   "cell_type": "code",
   "execution_count": 51,
   "metadata": {},
   "outputs": [
    {
     "name": "stdout",
     "output_type": "stream",
     "text": [
      "[[0. 0.]\n",
      " [0. 1.]]\n"
     ]
    },
    {
     "ename": "NameError",
     "evalue": "name 'sorting_true' is not defined",
     "output_type": "error",
     "traceback": [
      "\u001b[0;31m---------------------------------------------------------------------------\u001b[0m",
      "\u001b[0;31mNameError\u001b[0m                                 Traceback (most recent call last)",
      "\u001b[0;32m<ipython-input-51-78b46e5667bc>\u001b[0m in \u001b[0;36m<module>\u001b[0;34m\u001b[0m\n\u001b[1;32m      2\u001b[0m \u001b[0;31m# For example, print the electrode locations and unit IDs\u001b[0m\u001b[0;34m\u001b[0m\u001b[0;34m\u001b[0m\u001b[0;34m\u001b[0m\u001b[0m\n\u001b[1;32m      3\u001b[0m \u001b[0mprint\u001b[0m\u001b[0;34m(\u001b[0m\u001b[0mrecording\u001b[0m\u001b[0;34m.\u001b[0m\u001b[0mget_channel_locations\u001b[0m\u001b[0;34m(\u001b[0m\u001b[0;34m)\u001b[0m\u001b[0;34m)\u001b[0m\u001b[0;34m\u001b[0m\u001b[0;34m\u001b[0m\u001b[0m\n\u001b[0;32m----> 4\u001b[0;31m \u001b[0mprint\u001b[0m\u001b[0;34m(\u001b[0m\u001b[0msorting_true\u001b[0m\u001b[0;34m.\u001b[0m\u001b[0mget_unit_ids\u001b[0m\u001b[0;34m(\u001b[0m\u001b[0;34m)\u001b[0m\u001b[0;34m)\u001b[0m\u001b[0;34m\u001b[0m\u001b[0;34m\u001b[0m\u001b[0m\n\u001b[0m",
      "\u001b[0;31mNameError\u001b[0m: name 'sorting_true' is not defined"
     ]
    }
   ],
   "source": [
    "# Now you can access the recording using the SpikeInterface API\n",
    "# For example, print the electrode locations and unit IDs\n",
    "print(recording.get_channel_locations())\n",
    "print(sorting_true.get_unit_ids())"
   ]
  },
  {
   "cell_type": "code",
   "execution_count": 52,
   "metadata": {},
   "outputs": [],
   "source": [
    "import pickle"
   ]
  },
  {
   "cell_type": "code",
   "execution_count": 53,
   "metadata": {},
   "outputs": [],
   "source": [
    "import spikeinterface.widgets as sw"
   ]
  },
  {
   "cell_type": "markdown",
   "metadata": {},
   "source": [
    "# Make Plots"
   ]
  },
  {
   "cell_type": "markdown",
   "metadata": {},
   "source": [
    "## <font color=\"brown\"> Scratch Paper"
   ]
  },
  {
   "cell_type": "markdown",
   "metadata": {},
   "source": [
    "Code for clearing output [comes from here](https://stackoverflow.com/questions/42782902/clear-widget-area-of-a-cell-in-a-jupyter-notebook-from-within-notebook)"
   ]
  },
  {
   "cell_type": "code",
   "execution_count": null,
   "metadata": {},
   "outputs": [],
   "source": [
    "from IPython.display import display, clear_output"
   ]
  },
  {
   "cell_type": "markdown",
   "metadata": {},
   "source": [
    "Create Toggle button example"
   ]
  },
  {
   "cell_type": "code",
   "execution_count": null,
   "metadata": {},
   "outputs": [],
   "source": [
    "test= ipw.ToggleButtons(\n",
    "    options=['1', '2'],\n",
    "    #description='Choose Algorithm : ',\n",
    "    #button_style=\"\", # 'success', 'info', 'warning', 'danger' or ''\n",
    "    #tooltips=['Describe mountainsort4', 'describe spikingcircus'],\n",
    ")\n",
    "test"
   ]
  },
  {
   "cell_type": "code",
   "execution_count": null,
   "metadata": {},
   "outputs": [],
   "source": [
    "#w_rs = sw.plot_rasters(sorting_true, sampling_frequency=fs)\n",
    "    \n",
    "#w_isi = sw.plot_isi_distribution(sorting_true, sampling_frequency=fs, bins=10, window=1)"
   ]
  },
  {
   "cell_type": "markdown",
   "metadata": {},
   "source": [
    "Build observe function that change a display based on which button is clicked"
   ]
  },
  {
   "cell_type": "code",
   "execution_count": null,
   "metadata": {},
   "outputs": [],
   "source": [
    "def observe_test(change):\n",
    "    # Clear the previous plot output and then redisplay buttons\n",
    "    clear_output()\n",
    "    display( test )\n",
    "    \n",
    "    # Run the main function\n",
    "    if test.value == '1':\n",
    "        print(\"This is an explanation about 1\")\n",
    "        sw.plot_rasters(sorting_true, sampling_frequency=fs)\n",
    "    else:\n",
    "        print(\"Here's a different explanation about 2\")\n",
    "        sw.plot_isi_distribution(sorting_true, sampling_frequency=fs, bins=10, window=1)\n",
    "\n",
    "\n",
    "test.observe( observe_test , names = 'value')   "
   ]
  },
  {
   "cell_type": "markdown",
   "metadata": {},
   "source": [
    "**Expaiing what display does**"
   ]
  },
  {
   "cell_type": "markdown",
   "metadata": {},
   "source": [
    "<font color=\"red\">wrong way"
   ]
  },
  {
   "cell_type": "code",
   "execution_count": null,
   "metadata": {},
   "outputs": [],
   "source": [
    "ipw.IntSlider() \n",
    "ipw.Text() "
   ]
  },
  {
   "cell_type": "markdown",
   "metadata": {},
   "source": [
    "correct way"
   ]
  },
  {
   "cell_type": "code",
   "execution_count": null,
   "metadata": {},
   "outputs": [],
   "source": [
    "display( ipw.IntSlider() )\n",
    "display( ipw.Text() )"
   ]
  },
  {
   "cell_type": "code",
   "execution_count": null,
   "metadata": {},
   "outputs": [],
   "source": []
  },
  {
   "cell_type": "code",
   "execution_count": null,
   "metadata": {},
   "outputs": [],
   "source": []
  },
  {
   "cell_type": "code",
   "execution_count": null,
   "metadata": {},
   "outputs": [],
   "source": []
  },
  {
   "cell_type": "code",
   "execution_count": null,
   "metadata": {},
   "outputs": [],
   "source": []
  },
  {
   "cell_type": "markdown",
   "metadata": {},
   "source": [
    "## Main Section"
   ]
  },
  {
   "cell_type": "markdown",
   "metadata": {},
   "source": [
    " Elliot, \n",
    "Can we get these summary figures to render even if the dropdown for Make Plots is collapsed?"
   ]
  },
  {
   "cell_type": "markdown",
   "metadata": {},
   "source": [
    "<font color=\"red\">Arpitha: Create `toggle buttons` or possibly regular buttons that when changed, switch between the different graphs. To do this with the toggle buttons I think you need to use observe function."
   ]
  },
  {
   "cell_type": "markdown",
   "metadata": {},
   "source": [
    "example with toggle button"
   ]
  },
  {
   "cell_type": "code",
   "execution_count": null,
   "metadata": {},
   "outputs": [],
   "source": [
    "test= ipw.ToggleButtons(\n",
    "    options=['Time Series', 'Spectrum', \"isi distribution\", \"rasters\"],\n",
    "    #description='Choose Algorithm : ',\n",
    "    #button_style=\"\", # 'success', 'info', 'warning', 'danger' or ''\n",
    "    #tooltips=['Describe mountainsort4', 'describe spikingcircus'],\n",
    ")\n",
    "test"
   ]
  },
  {
   "cell_type": "markdown",
   "metadata": {},
   "source": [
    "example with regular button"
   ]
  },
  {
   "cell_type": "code",
   "execution_count": null,
   "metadata": {},
   "outputs": [],
   "source": [
    "time_series = ipw.Button(\n",
    "    description ='time series',\n",
    "    disabled = False,\n",
    "    button_style='info', \n",
    "    tooltip = 'time serires',\n",
    "    #icon = 'check'   \n",
    ")\n",
    "\n",
    "def on_time_series(_):\n",
    "    sw.plot_rasters(sorting_true, sampling_frequency=fs)\n",
    "time_series.on_click(on_time_series)\n",
    "\n",
    "time_series\n"
   ]
  },
  {
   "cell_type": "markdown",
   "metadata": {},
   "source": [
    "Arpitha Please,\n",
    "\n",
    "    For these plots, can we use pyplot (or maybe another package) to \n",
    "        for the plot_amplitudes_timeseries figure:\n",
    "            -add time in s on the X-axis. \n",
    "        for the plot_unit_waveforms figure:\n",
    "            -add time in ms to graph. The length of the X-axis here should be 3ms; if that's not clear from the axis values let me know.\n",
    "            -Add the y axis units in microvolts. FYI, you can see in the plot_amplitudes_timeseries graph that unit 1 has a lot of spikes around 10 microvolts.\n",
    "            \n",
    "    Note: it is ok for now if there is extra text printing, or other imperfections in the code. Lets focus on the implementation then we can perfect it. Let me know when you are done. Thanks!\n",
    "    \n",
    "    P.S. Theres an example under the curate_units graph. Notice how I use plt.yticks to change the scaling of the graph. Try to interact with the graphs after their creation to refurbish them. More information about what the figure objects may be useful here: https://github.com/SpikeInterface/spikewidgets/tree/master/spikewidgets/widgets . For example the unitwaveforms.py has the plot_unit_waveforms function definition which shows how they created the figure. Inspecting them can give you hints how to understand/manipulate the figures.\n",
    "    \n",
    "   "
   ]
  },
  {
   "cell_type": "code",
   "execution_count": null,
   "metadata": {},
   "outputs": [],
   "source": [
    "w_ts = sw.plot_timeseries(recording)\n",
    "    \n",
    "    #does not work w no geom:\n",
    "    #w_el = sw.plot_electrode_geometry(recording)\n",
    "    #pickle.dump(w_el, output, pickle.HIGHEST_PROTOCOL)\n",
    "    \n",
    "w_sp = sw.plot_spectrum(recording)\n",
    "    \n",
    "w_rs = sw.plot_rasters(sorting_true, sampling_frequency=fs)\n",
    "    \n",
    "w_isi = sw.plot_isi_distribution(sorting_true, sampling_frequency=fs, bins=10, window=1)\n",
    "    \n",
    "w_ach = sw.plot_autocorrelograms(sorting_true, sampling_frequency=fs, bin_size=1, window=10, unit_ids=[1, 2, 4, 5, 8, 10, 7])\n",
    "    \n",
    "w_cch = sw.plot_crosscorrelograms(sorting_true, sampling_frequency=fs, unit_ids=[1, 5, 8], bin_size=0.1, window=5)\n",
    "\n",
    "w_wf = sw.plot_unit_waveforms(recording, sorting_true,unit_ids=sorting_true.get_unit_ids(),  max_spikes_per_unit=100)\n",
    "    \n",
    "w_ampd = sw.plot_amplitudes_distribution(recording, sorting_true, max_spikes_per_unit=300)\n",
    "    \n",
    "w_ampt = sw.plot_amplitudes_timeseries(recording, sorting_true, max_spikes_per_unit=300)\n",
    "    "
   ]
  },
  {
   "cell_type": "code",
   "execution_count": null,
   "metadata": {},
   "outputs": [],
   "source": [
    "ipw.ToggleButtons(\n",
    "    options = ['Plot_amplitudes_timeseries','Plot_unit_waveforms'],\n",
    "    #description = 'Choose Algorithm:',\n",
    "    button_style ='info',\n",
    "    tooltips = ['Describe Plot_amplitudes_timeseries ','Describe Plot_unit_waveforms '],\n",
    ")\n",
    "#Use the observe function"
   ]
  },
  {
   "cell_type": "markdown",
   "metadata": {},
   "source": [
    "# Curate Units"
   ]
  },
  {
   "cell_type": "markdown",
   "metadata": {},
   "source": [
    "Arpitha, please:\n",
    "    \n",
    "    create a text box asking users to enter curated units seperated by commas. So if a user enters \"1,9\" into the box it will populate the curated_units array -> [1,9]. If the user does not enter specific channels, make curated_units equal to sorting_true.get_unit_ids()"
   ]
  },
  {
   "cell_type": "markdown",
   "metadata": {},
   "source": [
    "<font color=\"red\">Arptiha: I think it's better to create 2 integer boxes."
   ]
  },
  {
   "cell_type": "code",
   "execution_count": null,
   "metadata": {},
   "outputs": [],
   "source": [
    "display( widgets.IntText( description=\"start\", value=1 ) )\n",
    "display( widgets.IntText( description=\"stop\", value=1 ) )"
   ]
  },
  {
   "cell_type": "markdown",
   "metadata": {},
   "source": [
    "<font color=\"red\">Perhaps later you can try making it fancier with an `intRangeSlider`"
   ]
  },
  {
   "cell_type": "code",
   "execution_count": null,
   "metadata": {},
   "outputs": [],
   "source": [
    "\n",
    "widgets.IntRangeSlider(\n",
    "    value=[3,7],\n",
    "    min=0,\n",
    "    max=10,\n",
    "    step=1,\n",
    "    description='Test:',\n",
    "    disabled=False,\n",
    "    continuous_update=False,\n",
    "    orientation='horizontal',\n",
    "    readout=True,\n",
    "    readout_format='d',\n",
    ")"
   ]
  },
  {
   "cell_type": "code",
   "execution_count": null,
   "metadata": {},
   "outputs": [],
   "source": [
    "# Arpitha\n",
    "#import array as arr\n",
    "\n",
    "#curated_units = arr.array('i',[1,1])\n",
    "\n",
    "curated_units = [0,0]                    #Used list instead of array\n",
    "curated_units[0] = widgets.IntText(\n",
    "        step = 1,                        #Did not make text box bounded\n",
    "        description = 'Start:',\n",
    "        disabled = False\n",
    ")\n",
    "curated_units[1] = widgets.IntText(\n",
    "    step = 1,\n",
    "    description = 'Stop:',\n",
    "    disabled = False\n",
    ")\n",
    "widgets.HBox([curated_units[0], curated_units[1]])\n"
   ]
  },
  {
   "cell_type": "code",
   "execution_count": null,
   "metadata": {},
   "outputs": [],
   "source": [
    "# Arpitha\n",
    "\n",
    "print (curated_units[0].value)                                       \n",
    "print (curated_units[1].value)\n",
    "\n",
    "if (curated_units[0].value==0 and curated_units[1].value==0):\n",
    "    curated_units = sorting_true.get_unit_ids()                  #If nothing entered in textbox, curated_units equals sorting ids\n",
    "\n"
   ]
  },
  {
   "cell_type": "code",
   "execution_count": null,
   "metadata": {},
   "outputs": [],
   "source": [
    "# Arpitha\n",
    "\n",
    "curated_units = widgets.IntRangeSlider(\n",
    "    value=[3,7],\n",
    "    min=1,\n",
    "    max=9,\n",
    "    step=1,\n",
    "    description='Range',\n",
    "    disabled=False,\n",
    "    continuous_update=False,\n",
    "    orientation='horizontal',\n",
    "    readout=True,\n",
    "    readout_format='d',\n",
    ")\n",
    "display (curated_units)\n",
    "#make curated_units equal to sorting_true.get_unit_ids()"
   ]
  },
  {
   "cell_type": "code",
   "execution_count": null,
   "metadata": {},
   "outputs": [],
   "source": [
    "# Arpitha\n",
    "\n",
    "print (curated_units.value[0])\n",
    "print (curated_units.value[1])\n",
    "\n",
    "if (curated_units.value[0]==0 and curated_units.value[1]==0):\n",
    "    curated_units = sorting_true.get_unit_ids()\n"
   ]
  },
  {
   "cell_type": "code",
   "execution_count": null,
   "metadata": {},
   "outputs": [],
   "source": [
    "import matplotlib.pyplot as plt\n",
    "\n",
    "w_wf = sw.plot_unit_waveforms(recording, sorting_true,unit_ids=curated_units,max_channels=1,color='darkgreen', max_spikes_per_unit=300)#,figure=fig)#,axis=)\n",
    "\n",
    "plt.yticks(np.arange(-1.5, 2.0, 1))\n",
    "print(\"Each graph spans 3ms x axis. Y axis is microvolts -- the same as the amplitude distributions in the other graphs\")\n",
    "w_wf = sw.plot_unit_waveforms(recording, sorting_true,unit_ids=[curated_units[1],curated_units[0]],max_channels=1,color='darkgreen', max_spikes_per_unit=300)#,figure=fig)#,axis=)\n",
    "\n",
    "plt.yticks(np.arange(-1.5, 2.0, 1))"
   ]
  },
  {
   "cell_type": "markdown",
   "metadata": {},
   "source": [
    "# Remove Containers"
   ]
  },
  {
   "cell_type": "code",
   "execution_count": null,
   "metadata": {},
   "outputs": [],
   "source": [
    "!sudo docker ps -a | grep Exit | cut -d ' ' -f 1 | xargs sudo docker rm"
   ]
  },
  {
   "cell_type": "code",
   "execution_count": null,
   "metadata": {},
   "outputs": [],
   "source": []
  }
 ],
 "metadata": {
  "hide_input": false,
  "kernelspec": {
   "display_name": "Python 3",
   "language": "python",
   "name": "python3"
  },
  "language_info": {
   "codemirror_mode": {
    "name": "ipython",
    "version": 3
   },
   "file_extension": ".py",
   "mimetype": "text/x-python",
   "name": "python",
   "nbconvert_exporter": "python",
   "pygments_lexer": "ipython3",
   "version": "3.8.6"
  },
  "toc": {
   "base_numbering": 1,
   "nav_menu": {},
   "number_sections": true,
   "sideBar": true,
   "skip_h1_title": false,
   "title_cell": "Table of Contents",
   "title_sidebar": "Contents",
   "toc_cell": false,
   "toc_position": {},
   "toc_section_display": true,
   "toc_window_display": false
  },
  "varInspector": {
   "cols": {
    "lenName": 16,
    "lenType": 16,
    "lenVar": 40
   },
   "kernels_config": {
    "python": {
     "delete_cmd_postfix": "",
     "delete_cmd_prefix": "del ",
     "library": "var_list.py",
     "varRefreshCmd": "print(var_dic_list())"
    },
    "r": {
     "delete_cmd_postfix": ") ",
     "delete_cmd_prefix": "rm(",
     "library": "var_list.r",
     "varRefreshCmd": "cat(var_dic_list()) "
    }
   },
   "types_to_exclude": [
    "module",
    "function",
    "builtin_function_or_method",
    "instance",
    "_Feature"
   ],
   "window_display": false
  }
 },
 "nbformat": 4,
 "nbformat_minor": 4
}
