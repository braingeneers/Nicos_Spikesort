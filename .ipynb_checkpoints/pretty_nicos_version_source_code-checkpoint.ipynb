{
 "cells": [
  {
   "cell_type": "markdown",
   "metadata": {},
   "source": [
    "<font color=\"magenta\" size=7>Source Code"
   ]
  },
  {
   "cell_type": "markdown",
   "metadata": {},
   "source": [
    "This is the source code that runs the `spikesort_easy` application."
   ]
  },
  {
   "cell_type": "markdown",
   "metadata": {},
   "source": [
    "<font color=\"red\">This code is based on [this repository](https://github.com/flatironinstitute/spikeforest2)"
   ]
  },
  {
   "cell_type": "markdown",
   "metadata": {
    "heading_collapsed": true
   },
   "source": [
    "# <font color=\"red\">Siddish"
   ]
  },
  {
   "cell_type": "markdown",
   "metadata": {
    "hidden": true
   },
   "source": [
    "<font color=\"red\"> Finish this notebook so that you can create a functioning application inside the `Welcome to spikesort_easy` notebook."
   ]
  },
  {
   "cell_type": "markdown",
   "metadata": {
    "heading_collapsed": true
   },
   "source": [
    "# Notebook Setup"
   ]
  },
  {
   "cell_type": "markdown",
   "metadata": {
    "heading_collapsed": true,
    "hidden": true
   },
   "source": [
    "## Import Stuff"
   ]
  },
  {
   "cell_type": "code",
   "execution_count": 9,
   "metadata": {
    "hidden": true
   },
   "outputs": [],
   "source": [
    "import kachery as ka\n",
    "import os\n",
    "import subprocess\n",
    "import sys\n",
    "import numpy as np\n",
    "def install(package):\n",
    "    subprocess.check_call([sys.executable, \"-m\", \"pip\", \"install\", package])\n",
    "#do things to get braingeneers data\n",
    "#install(\"git+https://github.com/braingeneers/braingeneerspy.git\")\n",
    "#install(\"matplotlib\")\n",
    "import hither_sf as hither\n",
    "from spikeforest2 import sorters\n",
    "import matplotlib\n",
    "import braingeneers.datasets_electrophysiology\n",
    "import spikeinterface.extractors as se #for mda conversion only\n",
    "import spiketoolkit as st\n",
    "import braingeneers\n",
    "from braingeneers import datasets_electrophysiology as ephys\n",
    "import numpy as np\n",
    "import json\n",
    "import spikeforest2_utils\n",
    "from spikeforest2_utils import AutoRecordingExtractor, MdaRecordingExtractor\n",
    "import hither_sf as hither\n",
    "import kachery as ka\n",
    "import io\n",
    "import sys\n",
    "spikeforest2_utils.__version__=1.0"
   ]
  },
  {
   "cell_type": "markdown",
   "metadata": {
    "heading_collapsed": true,
    "hidden": true
   },
   "source": [
    "## Create Directories"
   ]
  },
  {
   "cell_type": "code",
   "execution_count": 10,
   "metadata": {
    "hidden": true
   },
   "outputs": [],
   "source": [
    "folders = !ls\n",
    "if \"kach_dir\" not in folders:\n",
    "    !mkdir kach_dir\n",
    "    !touch kach_dir/raw.mda"
   ]
  },
  {
   "cell_type": "code",
   "execution_count": 11,
   "metadata": {
    "hidden": true
   },
   "outputs": [],
   "source": [
    "current_dir = ! pwd\n",
    "kach_dir = current_dir[0] + \"/kach_dir/\""
   ]
  },
  {
   "cell_type": "markdown",
   "metadata": {
    "hidden": true
   },
   "source": []
  },
  {
   "cell_type": "markdown",
   "metadata": {},
   "source": [
    "# <font color=\"blue\">Choose Experiment, time range, channels "
   ]
  },
  {
   "cell_type": "markdown",
   "metadata": {},
   "source": [
    "## <font color=\"blue\">choose time range, experiment name, experiment num"
   ]
  },
  {
   "cell_type": "code",
   "execution_count": 12,
   "metadata": {},
   "outputs": [],
   "source": [
    "fname = os.environ['KACHERY_STORAGE_DIR']=kach_dir\n",
    "batch_uuid = '2020-11-27-e-UCSF-axionplate' \n",
    "experiment_num= 9 #arpitha make this a button to choose exp num\n",
    "start = 1 #arpitha, sliders here for start minutes\n",
    "stop = 5 #and end minutes\n",
    "#recording_path = 'sha1://961f4a641af64dded4821610189f808f0192de4d/SYNTH_MEAREC_TETRODE/synth_mearec_tetrode_noise10_K10_C4/002_synth.json'"
   ]
  },
  {
   "cell_type": "markdown",
   "metadata": {},
   "source": [
    "## view other experiment numbers in the same batch"
   ]
  },
  {
   "cell_type": "code",
   "execution_count": 13,
   "metadata": {},
   "outputs": [
    {
     "name": "stdout",
     "output_type": "stream",
     "text": [
      "Below is experiment number  0\n",
      "Full path for PRP: https://s3.nautilus.optiputer.net/braingeneers/ephys/2020-11-27-e-UCSF-axionplate/derived/cells_faraday_1.json\n",
      "dict_keys(['blocks', 'channels', 'hardware', 'name', 'notes', 'num_channels', 'num_current_input_channels', 'num_voltage_channels', 'offset', 'sample_rate', 'scaler', 'timestamp', 'units', 'version'])\n",
      "Below is experiment number  1\n",
      "Full path for PRP: https://s3.nautilus.optiputer.net/braingeneers/ephys/2020-11-27-e-UCSF-axionplate/derived/cells_faraday_2.json\n",
      "dict_keys(['blocks', 'channels', 'hardware', 'name', 'notes', 'num_channels', 'num_current_input_channels', 'num_voltage_channels', 'offset', 'sample_rate', 'scaler', 'timestamp', 'units', 'version'])\n",
      "Below is experiment number  2\n",
      "Full path for PRP: https://s3.nautilus.optiputer.net/braingeneers/ephys/2020-11-27-e-UCSF-axionplate/derived/intan_noise_no_faraday_warm_plate.json\n",
      "dict_keys(['blocks', 'channels', 'hardware', 'name', 'notes', 'num_channels', 'num_current_input_channels', 'num_voltage_channels', 'offset', 'sample_rate', 'scaler', 'timestamp', 'units', 'version'])\n",
      "Below is experiment number  3\n",
      "Full path for PRP: https://s3.nautilus.optiputer.net/braingeneers/ephys/2020-11-27-e-UCSF-axionplate/derived/intan_noise_in_faraday_warm_plate.json\n",
      "dict_keys(['blocks', 'channels', 'hardware', 'name', 'notes', 'num_channels', 'num_current_input_channels', 'num_voltage_channels', 'offset', 'sample_rate', 'scaler', 'timestamp', 'units', 'version'])\n",
      "Below is experiment number  4\n",
      "Full path for PRP: https://s3.nautilus.optiputer.net/braingeneers/ephys/2020-11-27-e-UCSF-axionplate/derived/raspi-noise-in-faraday-2020-11-27-13-27-18.json\n",
      "dict_keys(['version', 'name', 'notes', 'timestamp', 'hardware', 'sample_rate', 'offset', 'scaler', 'units', 'num_channels', 'channels', 'blocks'])\n",
      "Below is experiment number  5\n",
      "Full path for PRP: https://s3.nautilus.optiputer.net/braingeneers/ephys/2020-11-27-e-UCSF-axionplate/derived/raspi-noise-in-faraday-2020-11-27-13-30-16.json\n",
      "dict_keys(['version', 'name', 'notes', 'timestamp', 'hardware', 'sample_rate', 'offset', 'scaler', 'units', 'num_channels', 'channels', 'blocks'])\n",
      "Below is experiment number  6\n",
      "Full path for PRP: https://s3.nautilus.optiputer.net/braingeneers/ephys/2020-11-27-e-UCSF-axionplate/derived/raspi-2020-11-27-12-49-12.json\n",
      "dict_keys(['version', 'name', 'notes', 'timestamp', 'hardware', 'sample_rate', 'offset', 'scaler', 'units', 'num_channels', 'channels', 'blocks'])\n",
      "Below is experiment number  7\n",
      "Full path for PRP: https://s3.nautilus.optiputer.net/braingeneers/ephys/2020-11-27-e-UCSF-axionplate/derived/raspi-2020-11-27-12-54-27.json\n",
      "dict_keys(['version', 'name', 'notes', 'timestamp', 'hardware', 'sample_rate', 'offset', 'scaler', 'units', 'num_channels', 'channels', 'blocks'])\n",
      "Below is experiment number  8\n",
      "Full path for PRP: https://s3.nautilus.optiputer.net/braingeneers/ephys/2020-11-27-e-UCSF-axionplate/derived/raspi-2020-11-27-13-36-52.json\n",
      "dict_keys(['version', 'name', 'notes', 'timestamp', 'hardware', 'sample_rate', 'offset', 'scaler', 'units', 'num_channels', 'channels', 'blocks'])\n",
      "Below is experiment number  9\n",
      "Full path for PRP: https://s3.nautilus.optiputer.net/braingeneers/ephys/2020-11-27-e-UCSF-axionplate/derived/raspi-2020-11-27-13-39-19.json\n",
      "dict_keys(['version', 'name', 'notes', 'timestamp', 'hardware', 'sample_rate', 'offset', 'scaler', 'units', 'num_channels', 'channels', 'blocks'])\n",
      "Below is experiment number  10\n",
      "Full path for PRP: https://s3.nautilus.optiputer.net/braingeneers/ephys/2020-11-27-e-UCSF-axionplate/derived/raspi-2020-11-27-14-06-45.json\n",
      "dict_keys(['version', 'name', 'notes', 'timestamp', 'hardware', 'sample_rate', 'offset', 'scaler', 'units', 'num_channels', 'channels', 'blocks'])\n",
      "Below is experiment number  11\n",
      "these are the first 100 experiments\n"
     ]
    }
   ],
   "source": [
    "try:\n",
    "    for num in range(100):\n",
    "        print(\"Below is experiment number \", num)\n",
    "        experiment = braingeneers.datasets_electrophysiology.load_experiment(batch_uuid, num)\n",
    "        print(experiment.keys())\n",
    "        experiment[\"notes\"]\n",
    "except:\n",
    "    print(\"these are the first 100 experiments\")"
   ]
  },
  {
   "cell_type": "markdown",
   "metadata": {
    "heading_collapsed": true
   },
   "source": [
    "## <font color=\"blue\">choose channels"
   ]
  },
  {
   "cell_type": "code",
   "execution_count": 14,
   "metadata": {
    "hidden": true
   },
   "outputs": [],
   "source": [
    "selected_channels=[5,10]"
   ]
  },
  {
   "cell_type": "code",
   "execution_count": 15,
   "metadata": {
    "hidden": true
   },
   "outputs": [
    {
     "data": {
      "text/plain": [
       "2"
      ]
     },
     "execution_count": 15,
     "metadata": {},
     "output_type": "execute_result"
    }
   ],
   "source": [
    "len(selected_channels)"
   ]
  },
  {
   "cell_type": "markdown",
   "metadata": {},
   "source": [
    "## load data, time array (seconds), and sampling freq"
   ]
  },
  {
   "cell_type": "code",
   "execution_count": 16,
   "metadata": {},
   "outputs": [
    {
     "name": "stdout",
     "output_type": "stream",
     "text": [
      "Full path for PRP: https://s3.nautilus.optiputer.net/braingeneers/ephys/2020-11-27-e-UCSF-axionplate/derived/raspi-2020-11-27-13-39-19.json\n",
      "Loading file Raspi... start: 1  stop: 5\n"
     ]
    },
    {
     "data": {
      "text/plain": [
       "(32, 3176640)"
      ]
     },
     "execution_count": 16,
     "metadata": {},
     "output_type": "execute_result"
    }
   ],
   "source": [
    "X, t, fs = ephys.load_blocks(batch_uuid, experiment_num, start=start, stop=stop)\n",
    "\n",
    "X = X.T #spikeinterface wants it MxN (channel number by time)\n",
    "X.shape"
   ]
  },
  {
   "cell_type": "code",
   "execution_count": 17,
   "metadata": {},
   "outputs": [
    {
     "name": "stdout",
     "output_type": "stream",
     "text": [
      "this is sampling Freq:  13236\n"
     ]
    }
   ],
   "source": [
    "print(\"this is sampling Freq: \", fs)"
   ]
  },
  {
   "cell_type": "markdown",
   "metadata": {},
   "source": [
    "## <font color=\"blue\">optionally (ideally): apply geometry for locations of electrodes"
   ]
  },
  {
   "cell_type": "code",
   "execution_count": 18,
   "metadata": {},
   "outputs": [
    {
     "name": "stdout",
     "output_type": "stream",
     "text": [
      "last_chan shape  (3176640,)\n",
      "X[0].shape  (3176640,)\n",
      "2 chan:  (2, 3176640)\n"
     ]
    }
   ],
   "source": [
    "last_chan = X[selected_channels[0],:]\n",
    "print(\"last_chan shape \", last_chan.shape)\n",
    "print(\"X[0].shape \", X[0].shape)\n",
    "\n",
    "geom = np.zeros(((len(selected_channels)),2)) # initialize recording device geometry to zeros\n",
    "\n",
    "if len(selected_channels)==1:\n",
    "    this_chan = X[selected_channels[0]]\n",
    "    this_chan = np.array([this_chan])\n",
    "    X = this_chan\n",
    "    print(\"1 chan: \", X.shape)\n",
    "    \n",
    "    \n",
    "if len(selected_channels)==2:\n",
    "    X = np.append([X[selected_channels[0]]], [X[selected_channels[1]]], axis=0)\n",
    "    print(\"2 chan: \", X.shape)\n",
    "    geom = np.array([[0.0,0.0],[0.0,1.0]])\n",
    "\n",
    "if len(selected_channels)>2: #PROBLEMATIC\n",
    "    for chan in range(1,len(selected_channels)):\n",
    "        last_chan = np.append([last_chan],[X[selected_channels[chan]]],axis=0)\n",
    "    X = last_chan\n"
   ]
  },
  {
   "cell_type": "code",
   "execution_count": 19,
   "metadata": {},
   "outputs": [
    {
     "data": {
      "text/plain": [
       "(2, 3176640)"
      ]
     },
     "execution_count": 19,
     "metadata": {},
     "output_type": "execute_result"
    }
   ],
   "source": [
    "X.shape"
   ]
  },
  {
   "cell_type": "code",
   "execution_count": 20,
   "metadata": {},
   "outputs": [
    {
     "name": "stdout",
     "output_type": "stream",
     "text": [
      "[[0. 0.]\n",
      " [0. 1.]]\n"
     ]
    }
   ],
   "source": [
    "print(geom)"
   ]
  },
  {
   "cell_type": "code",
   "execution_count": 21,
   "metadata": {},
   "outputs": [
    {
     "name": "stdout",
     "output_type": "stream",
     "text": [
      "minutes =  4.0\n",
      "expected minutes = 4\n"
     ]
    }
   ],
   "source": [
    "#X.shape\n",
    "#X[1:10,1:10]\n",
    "print(\"minutes = \", X.shape[1]/fs/60)\n",
    "print(\"expected minutes =\", stop-start)"
   ]
  },
  {
   "cell_type": "code",
   "execution_count": 22,
   "metadata": {},
   "outputs": [
    {
     "name": "stdout",
     "output_type": "stream",
     "text": [
      "only two channels, so Geom always two points 1 unit apart.\n"
     ]
    }
   ],
   "source": [
    "if X.shape[0] == 2 :\n",
    "    geom = np.array([[0.0,0.0],[0.0,1.0]])\n",
    "    print(\"only two channels, so Geom always two points 1 unit apart.\")"
   ]
  },
  {
   "cell_type": "code",
   "execution_count": 23,
   "metadata": {},
   "outputs": [
    {
     "data": {
      "text/plain": [
       "(2, 2)"
      ]
     },
     "execution_count": 23,
     "metadata": {},
     "output_type": "execute_result"
    }
   ],
   "source": [
    "geom.shape #the 2d locations in space of each channel on the recording device"
   ]
  },
  {
   "cell_type": "markdown",
   "metadata": {},
   "source": [
    "# Create \"Recording\" for spikeForest and Filter recording"
   ]
  },
  {
   "cell_type": "code",
   "execution_count": 24,
   "metadata": {},
   "outputs": [],
   "source": [
    "recording=se.NumpyRecordingExtractor(\n",
    "    timeseries=X,\n",
    "    geom=geom,\n",
    "    sampling_frequency=fs\n",
    ")"
   ]
  },
  {
   "cell_type": "code",
   "execution_count": 25,
   "metadata": {},
   "outputs": [],
   "source": [
    "#recording = st.preprocessing.bandpass_filter(recording, freq_min=300, freq_max=6000)"
   ]
  },
  {
   "cell_type": "code",
   "execution_count": 26,
   "metadata": {},
   "outputs": [
    {
     "data": {
      "text/plain": [
       "'/home/jovyan/Documents/nicos_spikesort/kach_dir/'"
      ]
     },
     "execution_count": 26,
     "metadata": {},
     "output_type": "execute_result"
    }
   ],
   "source": [
    "fname"
   ]
  },
  {
   "cell_type": "markdown",
   "metadata": {},
   "source": [
    "raw_path = ka.store_file(fname  + 'raw.mda')"
   ]
  },
  {
   "cell_type": "markdown",
   "metadata": {},
   "source": [
    "kach_dir_files = ! ls kach_dir\n",
    "if \"geom.csv\" not in kach_dir_files :\n",
    "    ! touch kach_dir/geom.csv"
   ]
  },
  {
   "cell_type": "markdown",
   "metadata": {},
   "source": [
    "obj = dict(\n",
    "    raw=raw_path,\n",
    "    params=ka.load_object(fname + 'params.json'),\n",
    "    geom=np.genfromtxt(ka.load_file(fname + 'geom.csv'), delimiter=',').tolist()\n",
    ")"
   ]
  },
  {
   "cell_type": "markdown",
   "metadata": {},
   "source": [
    "obj['self_reference'] = ka.store_object(obj, basename='{}.json'.format(label))\n",
    "print(obj['self_reference'])\n",
    "with open(output_fname, 'w') as f:\n",
    "    json.dump(obj, f, indent=4)"
   ]
  },
  {
   "cell_type": "code",
   "execution_count": 27,
   "metadata": {},
   "outputs": [],
   "source": [
    "def register_recording(*, fname, recording, output_fname, label):\n",
    "            raw_path = ka.store_file(fname  + 'raw.mda')\n",
    "            obj = dict(\n",
    "                raw=raw_path,\n",
    "                params=ka.load_object(fname + 'params.json'),\n",
    "                geom=np.genfromtxt(ka.load_file(fname + 'geom.csv'), delimiter=',').tolist()\n",
    "            )\n",
    "            obj['self_reference'] = ka.store_object(obj, basename='{}.json'.format(label))\n",
    "\n",
    "            with open(output_fname, 'w') as f: json.dump(obj, f, indent=4)\n",
    "            return obj['self_reference']\n",
    "            \n",
    "            "
   ]
  },
  {
   "cell_type": "code",
   "execution_count": 28,
   "metadata": {},
   "outputs": [],
   "source": [
    "recording_path =  register_recording( recording=recording, fname=fname, output_fname=fname+'new_recording.json', label='new_recording')"
   ]
  },
  {
   "cell_type": "markdown",
   "metadata": {},
   "source": [
    "# <font color=\"black\"> Sort"
   ]
  },
  {
   "cell_type": "code",
   "execution_count": 29,
   "metadata": {},
   "outputs": [],
   "source": [
    "# dummy dataset courtesy of spikeforest's example \n",
    "#recording_path = 'sha1://961f4a641af64dded4821610189f808f0192de4d/SYNTH_MEAREC_TETRODE/synth_mearec_tetrode_noise10_K10_C4/002_synth.json' \n"
   ]
  },
  {
   "cell_type": "code",
   "execution_count": 30,
   "metadata": {},
   "outputs": [
    {
     "name": "stderr",
     "output_type": "stream",
     "text": [
      "/opt/conda/lib/python3.8/site-packages/kachery/_update_config_repos.py:39: ResourceWarning: unclosed file <_io.BufferedReader name=49>\n",
      "  _pull_git_repo(path=config_repo_path + '/repo')\n",
      "ResourceWarning: Enable tracemalloc to get the object allocation traceback\n",
      "/opt/conda/lib/python3.8/site-packages/kachery/_update_config_repos.py:39: ResourceWarning: unclosed file <_io.BufferedReader name=52>\n",
      "  _pull_git_repo(path=config_repo_path + '/repo')\n",
      "ResourceWarning: Enable tracemalloc to get the object allocation traceback\n"
     ]
    },
    {
     "name": "stdout",
     "output_type": "stream",
     "text": [
      "===== Hither: running [spykingcircus] in container: docker://magland/sf-spykingcircus:0.9.7\n",
      "#############################################################\n",
      "\n",
      "                #!/bin/bash\n",
      "\n",
      "                exec docker run --name TRqeUfKI_spykingcircus -i  \\\n",
      "                    -v /etc/localtime:/etc/localtime:ro \\\n",
      "                    -v /etc/passwd:/etc/passwd -u `id -u`:`id -g` \\\n",
      "                    -v $KACHERY_STORAGE_DIR:/kachery-storage \\\n",
      "                    -v /home/jovyan/Documents/nicos_spikesort/kach_dir/tmp/tmp_hither_run_in_container_spykingcircus_v9w5b2lc:/run_in_container \\\n",
      "                    -v /tmp:/tmp \\\n",
      "                    -v $HOME:$HOME \\\n",
      "                    -v /home/jovyan/Documents/nicos_spikesort/kach_dir/tmp/tmp_hither_run_in_container_spykingcircus_v9w5b2lc/outputs:/outputs \\\n",
      "                    magland/sf-spykingcircus:0.9.7 \\\n",
      "                    bash /run_in_container/run.sh\n",
      "                \n",
      "#############################################################\n",
      "===== Hither: finished [spykingcircus] with status finished after 22.521604776382446 sec\n",
      "recording out path:  sha1://6268dacec4e41284d10747e08fe32045ee0e20ba/new_recording.json\n",
      "sorting out path:  hither.File(/home/jovyan/Documents/nicos_spikesort/kach_dir/sha1/f0/82/39/f082391602caab7bc2115398dbba926ae4c9588c)\n",
      "hither.File(/home/jovyan/Documents/nicos_spikesort/kach_dir/sha1/f0/82/39/f082391602caab7bc2115398dbba926ae4c9588c)\n"
     ]
    }
   ],
   "source": [
    "with ka.config(fr='default_readonly'):\n",
    "    #with hither.config(cache='default_readwrite'):\n",
    "        with hither.config(container='default'):\n",
    "            result = sorters.spykingcircus.run(\n",
    "                    recording_path=recording_path,\n",
    "                    sorting_out=hither.File()\n",
    "                    )\n",
    "            print(\"recording out path: \", recording_path)\n",
    "            print(\"sorting out path: \",result.outputs.sorting_out)\n",
    "            sorting_path = str(result.outputs.sorting_out)\n",
    "\n",
    "print(result.outputs.sorting_out)\n"
   ]
  },
  {
   "cell_type": "code",
   "execution_count": 31,
   "metadata": {},
   "outputs": [
    {
     "name": "stdout",
     "output_type": "stream",
     "text": [
      "This is the new short path for the sorting:  /home/jovyan/Documents/nicos_spikesort/kach_dir/sha1/f0/82/39/f082391602caab7bc2115398dbba926ae4c9588c\n"
     ]
    }
   ],
   "source": [
    "sorting_out_short = sorting_path[12:-1]\n",
    "\n",
    "print(\"This is the new short path for the sorting: \",sorting_out_short)"
   ]
  },
  {
   "cell_type": "code",
   "execution_count": 32,
   "metadata": {},
   "outputs": [],
   "source": [
    "from spikeforest2_utils import AutoRecordingExtractor, AutoSortingExtractor\n",
    "import kachery as ka\n",
    "\n",
    "universal_sorting_path = ka.store_file(sorting_out_short)\n",
    "\n",
    "recording = AutoRecordingExtractor(recording_path, download=False)\n",
    "sorting_true = AutoSortingExtractor(universal_sorting_path)"
   ]
  },
  {
   "cell_type": "code",
   "execution_count": 33,
   "metadata": {},
   "outputs": [
    {
     "name": "stdout",
     "output_type": "stream",
     "text": [
      "[[0. 0.]\n",
      " [0. 1.]]\n",
      "[0 1]\n"
     ]
    }
   ],
   "source": [
    "# Now you can access the recording using the SpikeInterface API\n",
    "# For example, print the electrode locations and unit IDs\n",
    "print(recording.get_channel_locations())\n",
    "print(sorting_true.get_unit_ids())"
   ]
  },
  {
   "cell_type": "code",
   "execution_count": 34,
   "metadata": {},
   "outputs": [],
   "source": [
    "import pickle"
   ]
  },
  {
   "cell_type": "code",
   "execution_count": 35,
   "metadata": {},
   "outputs": [],
   "source": [
    "import spikeinterface.widgets as sw"
   ]
  },
  {
   "cell_type": "markdown",
   "metadata": {},
   "source": [
    "# Make Plots"
   ]
  },
  {
   "cell_type": "code",
   "execution_count": 36,
   "metadata": {
    "scrolled": true
   },
   "outputs": [
    {
     "data": {
      "image/png": "[encoded data removed]",
      "text/plain": [
       "<Figure size 432x288 with 1 Axes>"
      ]
     },
     "metadata": {
      "needs_background": "light"
     },
     "output_type": "display_data"
    },
    {
     "data": {
      "image/png": "[encoded data removed]",
      "text/plain": [
       "<Figure size 432x288 with 1 Axes>"
      ]
     },
     "metadata": {
      "needs_background": "light"
     },
     "output_type": "display_data"
    },
    {
     "data": {
      "image/png": "[encoded data removed]",
      "text/plain": [
       "<Figure size 432x288 with 1 Axes>"
      ]
     },
     "metadata": {
      "needs_background": "light"
     },
     "output_type": "display_data"
    },
    {
     "data": {
      "image/png": "[encoded data removed]",
      "text/plain": [
       "<Figure size 432x288 with 3 Axes>"
      ]
     },
     "metadata": {
      "needs_background": "light"
     },
     "output_type": "display_data"
    },
    {
     "data": {
      "image/png": "[encoded data removed]",
      "text/plain": [
       "<Figure size 432x288 with 8 Axes>"
      ]
     },
     "metadata": {
      "needs_background": "light"
     },
     "output_type": "display_data"
    },
    {
     "data": {
      "image/png": "[encoded data removed]",
      "text/plain": [
       "<Figure size 648x432 with 10 Axes>"
      ]
     },
     "metadata": {
      "needs_background": "light"
     },
     "output_type": "display_data"
    },
    {
     "data": {
      "image/png": "[encoded data removed]",
      "text/plain": [
       "<Figure size 432x288 with 3 Axes>"
      ]
     },
     "metadata": {
      "needs_background": "light"
     },
     "output_type": "display_data"
    },
    {
     "data": {
      "image/png": "[encoded data removed]",
      "text/plain": [
       "<Figure size 432x288 with 3 Axes>"
      ]
     },
     "metadata": {
      "needs_background": "light"
     },
     "output_type": "display_data"
    },
    {
     "data": {
      "image/png": "[encoded data removed]",
      "text/plain": [
       "<Figure size 432x288 with 3 Axes>"
      ]
     },
     "metadata": {
      "needs_background": "light"
     },
     "output_type": "display_data"
    }
   ],
   "source": [
    "w_ts = sw.plot_timeseries(recording)\n",
    "    \n",
    "    #does not work w no geom:\n",
    "    #w_el = sw.plot_electrode_geometry(recording)\n",
    "    #pickle.dump(w_el, output, pickle.HIGHEST_PROTOCOL)\n",
    "    \n",
    "w_sp = sw.plot_spectrum(recording)\n",
    "    \n",
    "w_rs = sw.plot_rasters(sorting_true, sampling_frequency=fs)\n",
    "    \n",
    "w_isi = sw.plot_isi_distribution(sorting_true, sampling_frequency=fs, bins=10, window=1)\n",
    "    \n",
    "w_ach = sw.plot_autocorrelograms(sorting_true, sampling_frequency=fs, bin_size=1, window=10, unit_ids=[1, 2, 4, 5, 8, 10, 7])\n",
    "    \n",
    "w_cch = sw.plot_crosscorrelograms(sorting_true, sampling_frequency=fs, unit_ids=[1, 5, 8], bin_size=0.1, window=5)\n",
    "\n",
    "w_wf = sw.plot_unit_waveforms(recording, sorting_true,unit_ids=sorting_true.get_unit_ids(),  max_spikes_per_unit=100)\n",
    "    \n",
    "w_ampd = sw.plot_amplitudes_distribution(recording, sorting_true, max_spikes_per_unit=300)\n",
    "    \n",
    "w_ampt = sw.plot_amplitudes_timeseries(recording, sorting_true, max_spikes_per_unit=300)\n",
    "    "
   ]
  },
  {
   "cell_type": "markdown",
   "metadata": {},
   "source": [
    "# Curate Units"
   ]
  },
  {
   "cell_type": "code",
   "execution_count": 1,
   "metadata": {},
   "outputs": [],
   "source": [
    "curated_units = [0,1]"
   ]
  },
  {
   "cell_type": "code",
   "execution_count": 2,
   "metadata": {},
   "outputs": [
    {
     "ename": "NameError",
     "evalue": "name 'sw' is not defined",
     "output_type": "error",
     "traceback": [
      "\u001b[0;31m---------------------------------------------------------------------------\u001b[0m",
      "\u001b[0;31mNameError\u001b[0m                                 Traceback (most recent call last)",
      "\u001b[0;32m<ipython-input-2-1d06c7bf726a>\u001b[0m in \u001b[0;36m<module>\u001b[0;34m\u001b[0m\n\u001b[1;32m      1\u001b[0m \u001b[0;32mimport\u001b[0m \u001b[0mmatplotlib\u001b[0m\u001b[0;34m.\u001b[0m\u001b[0mpyplot\u001b[0m \u001b[0;32mas\u001b[0m \u001b[0mplt\u001b[0m\u001b[0;34m\u001b[0m\u001b[0;34m\u001b[0m\u001b[0m\n\u001b[1;32m      2\u001b[0m \u001b[0;34m\u001b[0m\u001b[0m\n\u001b[0;32m----> 3\u001b[0;31m \u001b[0mw_wf\u001b[0m \u001b[0;34m=\u001b[0m \u001b[0msw\u001b[0m\u001b[0;34m.\u001b[0m\u001b[0mplot_unit_waveforms\u001b[0m\u001b[0;34m(\u001b[0m\u001b[0mrecording\u001b[0m\u001b[0;34m,\u001b[0m \u001b[0msorting_true\u001b[0m\u001b[0;34m,\u001b[0m\u001b[0munit_ids\u001b[0m\u001b[0;34m=\u001b[0m\u001b[0mcurated_units\u001b[0m\u001b[0;34m,\u001b[0m\u001b[0mmax_channels\u001b[0m\u001b[0;34m=\u001b[0m\u001b[0;36m1\u001b[0m\u001b[0;34m,\u001b[0m\u001b[0mcolor\u001b[0m\u001b[0;34m=\u001b[0m\u001b[0;34m'darkgreen'\u001b[0m\u001b[0;34m,\u001b[0m \u001b[0mmax_spikes_per_unit\u001b[0m\u001b[0;34m=\u001b[0m\u001b[0;36m300\u001b[0m\u001b[0;34m)\u001b[0m\u001b[0;31m#,figure=fig)#,axis=)\u001b[0m\u001b[0;34m\u001b[0m\u001b[0;34m\u001b[0m\u001b[0m\n\u001b[0m\u001b[1;32m      4\u001b[0m \u001b[0;34m\u001b[0m\u001b[0m\n\u001b[1;32m      5\u001b[0m \u001b[0mplt\u001b[0m\u001b[0;34m.\u001b[0m\u001b[0myticks\u001b[0m\u001b[0;34m(\u001b[0m\u001b[0mnp\u001b[0m\u001b[0;34m.\u001b[0m\u001b[0marange\u001b[0m\u001b[0;34m(\u001b[0m\u001b[0;34m-\u001b[0m\u001b[0;36m1.5\u001b[0m\u001b[0;34m,\u001b[0m \u001b[0;36m2.0\u001b[0m\u001b[0;34m,\u001b[0m \u001b[0;36m1\u001b[0m\u001b[0;34m)\u001b[0m\u001b[0;34m)\u001b[0m\u001b[0;34m\u001b[0m\u001b[0;34m\u001b[0m\u001b[0m\n",
      "\u001b[0;31mNameError\u001b[0m: name 'sw' is not defined"
     ]
    }
   ],
   "source": [
    "import matplotlib.pyplot as plt\n",
    "\n",
    "w_wf = sw.plot_unit_waveforms(recording, sorting_true,unit_ids=curated_units,max_channels=1,color='darkgreen', max_spikes_per_unit=300)#,figure=fig)#,axis=)\n",
    "\n",
    "plt.yticks(np.arange(-1.5, 2.0, 1))\n",
    "print(\"Each graph spans 3ms x axis. Y axis is microvolts -- the same as the amplitude distributions in the other graphs\")\n",
    "w_wf = sw.plot_unit_waveforms(recording, sorting_true,unit_ids=[curated_units[1],curated_units[0]],max_channels=1,color='darkgreen', max_spikes_per_unit=300)#,figure=fig)#,axis=)\n",
    "\n",
    "plt.yticks(np.arange(-1.5, 2.0, 1))"
   ]
  },
  {
   "cell_type": "markdown",
   "metadata": {},
   "source": [
    "# Remove Containers"
   ]
  },
  {
   "cell_type": "code",
   "execution_count": null,
   "metadata": {},
   "outputs": [],
   "source": [
    "!sudo docker ps -a | grep Exit | cut -d ' ' -f 1 | xargs sudo docker rm"
   ]
  }
 ],
 "metadata": {
  "hide_input": false,
  "kernelspec": {
   "display_name": "Python 3",
   "language": "python",
   "name": "python3"
  },
  "language_info": {
   "codemirror_mode": {
    "name": "ipython",
    "version": 3
   },
   "file_extension": ".py",
   "mimetype": "text/x-python",
   "name": "python",
   "nbconvert_exporter": "python",
   "pygments_lexer": "ipython3",
   "version": "3.8.6"
  },
  "toc": {
   "base_numbering": 1,
   "nav_menu": {},
   "number_sections": true,
   "sideBar": true,
   "skip_h1_title": false,
   "title_cell": "Table of Contents",
   "title_sidebar": "Contents",
   "toc_cell": false,
   "toc_position": {},
   "toc_section_display": true,
   "toc_window_display": false
  },
  "varInspector": {
   "cols": {
    "lenName": 16,
    "lenType": 16,
    "lenVar": 40
   },
   "kernels_config": {
    "python": {
     "delete_cmd_postfix": "",
     "delete_cmd_prefix": "del ",
     "library": "var_list.py",
     "varRefreshCmd": "print(var_dic_list())"
    },
    "r": {
     "delete_cmd_postfix": ") ",
     "delete_cmd_prefix": "rm(",
     "library": "var_list.r",
     "varRefreshCmd": "cat(var_dic_list()) "
    }
   },
   "types_to_exclude": [
    "module",
    "function",
    "builtin_function_or_method",
    "instance",
    "_Feature"
   ],
   "window_display": false
  },
  "widgets": {
   "application/vnd.jupyter.widget-state+json": {
    "state": {},
    "version_major": 2,
    "version_minor": 0
   }
  }
 },
 "nbformat": 4,
 "nbformat_minor": 4
}
